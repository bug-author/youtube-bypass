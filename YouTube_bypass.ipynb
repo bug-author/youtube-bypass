{
  "nbformat": 4,
  "nbformat_minor": 0,
  "metadata": {
    "colab": {
      "provenance": []
    },
    "kernelspec": {
      "name": "python3",
      "display_name": "Python 3"
    },
    "language_info": {
      "name": "python"
    }
  },
  "cells": [
    {
      "cell_type": "code",
      "source": [
        "from google.colab import drive\n",
        "drive.mount('/content/drive')"
      ],
      "metadata": {
        "colab": {
          "base_uri": "https://localhost:8080/"
        },
        "id": "2nzKk4U4IrSC",
        "outputId": "0ed22fdc-c65f-4c07-cff3-f2013a7540f4"
      },
      "execution_count": null,
      "outputs": [
        {
          "output_type": "stream",
          "name": "stdout",
          "text": [
            "Mounted at /content/drive\n"
          ]
        }
      ]
    },
    {
      "cell_type": "code",
      "source": [
        "!pip install yt-dlp"
      ],
      "metadata": {
        "id": "f97Cx8GTK2kE"
      },
      "execution_count": null,
      "outputs": []
    },
    {
      "cell_type": "markdown",
      "source": [
        "## 720p playlists"
      ],
      "metadata": {
        "id": "bgNxsoysUY0K"
      }
    },
    {
      "cell_type": "code",
      "source": [
        "!yt-dlp -f 'bestvideo[height=720]+bestaudio/best[height=720]' --yes-playlist <playlist_id>"
      ],
      "metadata": {
        "id": "HFywOG6SK4ST"
      },
      "execution_count": null,
      "outputs": []
    },
    {
      "cell_type": "markdown",
      "source": [
        "## 720p videos"
      ],
      "metadata": {
        "id": "LStwXgPtUd38"
      }
    },
    {
      "cell_type": "code",
      "source": [
        "!yt-dlp -f 'bestvideo[height=720]+bestaudio/best[height=720]' <video_id>"
      ],
      "metadata": {
        "id": "NRfqmzfTQ8m1"
      },
      "execution_count": null,
      "outputs": []
    },
    {
      "cell_type": "code",
      "source": [
        "import shutil\n",
        "import os\n",
        "\n",
        "FOLDER = 'YouTube Stuff'\n",
        "\n",
        "os.mkdir(FOLDER)\n",
        "\n",
        "for file in os.listdir():\n",
        "  if '.webm' in file:\n",
        "    shutil.move(file, f'{FOLDER}/{file}')"
      ],
      "metadata": {
        "id": "w5SaHf47U5se"
      },
      "execution_count": null,
      "outputs": []
    }
  ]
}